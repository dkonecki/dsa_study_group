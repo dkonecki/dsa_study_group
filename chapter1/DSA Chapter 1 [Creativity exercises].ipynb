{
 "cells": [
  {
   "cell_type": "markdown",
   "metadata": {},
   "source": [
    "#### C-1.13\n",
    "Write a pseudo-code description of a function that reverses a list of n integers, so that the numbers are listed in the opposite order than they were before, and compare this method to an equivalent Python function for doing the same thing."
   ]
  },
  {
   "cell_type": "code",
   "execution_count": 1,
   "metadata": {},
   "outputs": [
    {
     "name": "stdout",
     "output_type": "stream",
     "text": [
      "[0, 1, 2, 3, 4, 5, 6, 7, 8, 9]\n",
      "[9, 8, 7, 6, 5, 4, 3, 2, 1, 0]\n",
      "[9, 8, 7, 6, 5, 4, 3, 2, 1, 0]\n",
      "[2, 4, 6, 8, 10, 12, 14, 16, 18, 20]\n",
      "[2, 4, 6, 8, 10, 12, 14, 16, 18, 20]\n"
     ]
    }
   ],
   "source": [
    "def custom_reverse(seq):\n",
    "    return [seq[i] for i in range(len(seq) - 1, -1, -1)]\n",
    "# Simple test\n",
    "test1 = list(range(10))\n",
    "print(test1)\n",
    "print(custom_reverse(test1))\n",
    "test1.reverse()\n",
    "print(test1)\n",
    "test2 = list(range(20, 0, -2))\n",
    "print(custom_reverse(test2))\n",
    "test2.reverse()\n",
    "print(test2)"
   ]
  },
  {
   "cell_type": "markdown",
   "metadata": {},
   "source": [
    "#### C-1.14\n",
    "Write a short Python function that takes a sequence of integer values and determines if there is a distinct pair of numbers in the sequence whose product is odd."
   ]
  },
  {
   "cell_type": "code",
   "execution_count": 2,
   "metadata": {},
   "outputs": [],
   "source": [
    "def contains_odd_product(seq):\n",
    "    for i in range(len(seq)):\n",
    "        for j in range(i, len(seq)):\n",
    "            if ((seq[i] * seq[j]) % 2 - 1) == 0:\n",
    "                return True\n",
    "    return False"
   ]
  },
  {
   "cell_type": "markdown",
   "metadata": {},
   "source": [
    "#### C-1.15\n",
    "Write a Python function that takes a sequence of numbers and determines if all the numbers are different from each other (that is, they are distinct)."
   ]
  },
  {
   "cell_type": "code",
   "execution_count": 3,
   "metadata": {},
   "outputs": [
    {
     "name": "stdout",
     "output_type": "stream",
     "text": [
      "Test1 is unique: True\n",
      "Test2 is unique: True\n",
      "Test3 is unique: False\n"
     ]
    }
   ],
   "source": [
    "def determine_unique(seq):\n",
    "    unique = set(seq)\n",
    "    if len(seq) == len(unique):\n",
    "        return True\n",
    "    else:\n",
    "        return False\n",
    "# Simple Test\n",
    "print('Test1 is unique: {}'.format(determine_unique(test1)))\n",
    "print('Test2 is unique: {}'.format(determine_unique(test2)))\n",
    "test3 = list(range(10)) + [0]\n",
    "print('Test3 is unique: {}'.format(determine_unique(test3)))"
   ]
  },
  {
   "cell_type": "markdown",
   "metadata": {},
   "source": [
    "#### C-1.16\n",
    "In our implementation of the scale function (page25),the body of the loop executes the command data[j] = factor. We have discussed that numeric types are immutable, and that use of the   = operator in this context causes the creation of a new instance (not the mutation of an existing instance). How is it still possible, then, that our implementation of scale changes the actual parameter sent by the caller?"
   ]
  },
  {
   "cell_type": "code",
   "execution_count": 5,
   "metadata": {},
   "outputs": [],
   "source": [
    "# The behavior of this method is due to the fact that the actual parameter being altered is a list not a primitive\n",
    "# type. The list reference is never replaced in the execution of this code. The elements the list is referencing\n",
    "# are reassigned by method, acting as an update, which is then visible to the user."
   ]
  },
  {
   "cell_type": "markdown",
   "metadata": {},
   "source": [
    "#### C-1.17\n",
    "Had we implemented the scale function (page 25) as follows, does it work properly?\n",
    "```python\n",
    "def scale(data, factor):\n",
    "    for val in data:\n",
    "        val *= factor\n",
    "```\n",
    "Explain why or why not."
   ]
  },
  {
   "cell_type": "code",
   "execution_count": 4,
   "metadata": {},
   "outputs": [
    {
     "name": "stdout",
     "output_type": "stream",
     "text": [
      "[1, 2, 3, 4, 5, 6, 7, 8, 9, 10]\n",
      "[5, 10, 15, 20, 25, 30, 35, 40, 45, 50]\n",
      "[1, 2, 3, 4, 5, 6, 7, 8, 9, 10]\n",
      "[1, 2, 3, 4, 5, 6, 7, 8, 9, 10]\n"
     ]
    }
   ],
   "source": [
    "def scale_old(data, factor):\n",
    "    for j in range(len(data)):\n",
    "        data[j] *= factor\n",
    "def scale_new(data, factor):\n",
    "    for val in data:\n",
    "        val *= factor\n",
    "to_scale1 = list(range(1, 11))\n",
    "print(to_scale1)\n",
    "scale_old(to_scale1, 5)\n",
    "print(to_scale1)\n",
    "to_scale2 = list(range(1, 11))\n",
    "print(to_scale2)\n",
    "scale_new(to_scale2, 5)\n",
    "print(to_scale2)\n",
    "# The new method does not work, the reason for this is that the actual elements referenced by the list passed in are\n",
    "# being modified as opposed to the list references to those elements, which is done in the original method by using\n",
    "# the indexing functionality."
   ]
  },
  {
   "cell_type": "markdown",
   "metadata": {},
   "source": [
    "#### C-1.18\n",
    "Demonstrate how to use Python’s list comprehension syntax to produce\n",
    "the list [0, 2, 6, 12, 20, 30, 42, 56, 72, 90]."
   ]
  },
  {
   "cell_type": "code",
   "execution_count": 5,
   "metadata": {},
   "outputs": [
    {
     "data": {
      "text/plain": [
       "[0, 2, 6, 12, 20, 30, 42, 56, 72, 90]"
      ]
     },
     "execution_count": 5,
     "metadata": {},
     "output_type": "execute_result"
    }
   ],
   "source": [
    "[x*(x+1) for x in range(10)]"
   ]
  },
  {
   "cell_type": "markdown",
   "metadata": {},
   "source": [
    "#### C-1.19\n",
    "Demonstrate how to use Python’s list comprehension syntax to produce the list [a , b , c ,..., z], but without having to type all 26 such characters literally."
   ]
  },
  {
   "cell_type": "code",
   "execution_count": 6,
   "metadata": {},
   "outputs": [
    {
     "data": {
      "text/plain": [
       "['a',\n",
       " 'b',\n",
       " 'c',\n",
       " 'd',\n",
       " 'e',\n",
       " 'f',\n",
       " 'g',\n",
       " 'h',\n",
       " 'i',\n",
       " 'j',\n",
       " 'k',\n",
       " 'l',\n",
       " 'm',\n",
       " 'n',\n",
       " 'o',\n",
       " 'p',\n",
       " 'q',\n",
       " 'r',\n",
       " 's',\n",
       " 't',\n",
       " 'u',\n",
       " 'v',\n",
       " 'w',\n",
       " 'x',\n",
       " 'y',\n",
       " 'z']"
      ]
     },
     "execution_count": 6,
     "metadata": {},
     "output_type": "execute_result"
    }
   ],
   "source": [
    "[chr(x) for x in range(97, 123, 1)]"
   ]
  },
  {
   "cell_type": "markdown",
   "metadata": {},
   "source": [
    "#### C-1.20\n",
    "Python’s random module includes a function shuffle(data) that accepts a list of elements and randomly reorders the elements so that each possible order occurs with equal probability. The random module includes a more basic function randint(a, b) that returns a uniformly random integer from a to b (including both endpoints). Using only the randint function, implement your own version of the shuffle function."
   ]
  },
  {
   "cell_type": "code",
   "execution_count": 7,
   "metadata": {},
   "outputs": [
    {
     "name": "stdout",
     "output_type": "stream",
     "text": [
      "[5, 9, 7, 3, 0, 2, 8, 1, 4, 6]\n",
      "[14, 10, 18, 6, 16, 8, 20, 4, 2, 12]\n"
     ]
    }
   ],
   "source": [
    "from random import randint\n",
    "#def custom_shuffle(seq):\n",
    "#    index = set()\n",
    "#    update = []\n",
    "#    while len(index) < len(seq):\n",
    "#        i = randint(0, len(seq) - 1)\n",
    "#        if i in index:\n",
    "#            continue\n",
    "#        else:\n",
    "#            index.add(i)\n",
    "#            update.append(seq[i])\n",
    "#    return update\n",
    "def custom_shuffle(seq):\n",
    "    n = len(seq)\n",
    "    update = []\n",
    "    while len(update) < n:\n",
    "        i = randint(0, len(seq) - 1)\n",
    "        update.append(seq.pop(i))\n",
    "    return update\n",
    "test1 = list(range(10))\n",
    "print(custom_shuffle(test1))\n",
    "test1 = list(range(10))\n",
    "test2 = list(range(20, 0, -2))\n",
    "print(custom_shuffle(test2))\n",
    "test2 = list(range(20, 0, -2))"
   ]
  },
  {
   "cell_type": "markdown",
   "metadata": {},
   "source": [
    "#### C-1.21\n",
    "Write a Python program that repeatedly reads lines from standard input until an EOFError is raised, and then outputs those lines in reverse order (a user can indicate end of input by typing ctrl-D)."
   ]
  },
  {
   "cell_type": "code",
   "execution_count": 8,
   "metadata": {},
   "outputs": [
    {
     "name": "stdout",
     "output_type": "stream",
     "text": [
      "Please enter several lines of input (terminate by Ctrl-D): Hi there\n"
     ]
    },
    {
     "data": {
      "text/plain": [
       "['Hi there']"
      ]
     },
     "execution_count": 8,
     "metadata": {},
     "output_type": "execute_result"
    }
   ],
   "source": [
    "def reverse_input():\n",
    "    readin = input('Please enter several lines of input (terminate by Ctrl-D): ').split('\\n')\n",
    "    readin.reverse()\n",
    "    return readin\n",
    "reverse_input()"
   ]
  },
  {
   "cell_type": "markdown",
   "metadata": {},
   "source": [
    "#### C-1.22\n",
    "Write a short Python program that takes two arrays a and b of length n\n",
    "storing int values, and returns the dot product of a and b. That is, it returns\n",
    "an array c of length n such that c[i] = a[i] · b[i], for i = 0,...,n-1"
   ]
  },
  {
   "cell_type": "code",
   "execution_count": 9,
   "metadata": {},
   "outputs": [
    {
     "name": "stdout",
     "output_type": "stream",
     "text": [
      "[0, 18, 32, 42, 48, 50, 48, 42, 32, 18]\n"
     ]
    }
   ],
   "source": [
    "def dot_vector(a, b):\n",
    "    n = max(len(a), len(b))\n",
    "    c = []\n",
    "    for i in range(n):\n",
    "        c.append(a[i] * b[i])\n",
    "    return c\n",
    "print(dot_vector(test1, test2))"
   ]
  },
  {
   "cell_type": "markdown",
   "metadata": {},
   "source": [
    "#### C-1.23\n",
    "Give an example of a Python code fragment that attempts to write an element to a list based on an index that may be out of bounds. If that index is out of bounds, the program should catch the exception that results, and print the following error message:\n",
    "“Don’t try buffer overflow attacks in Python!”"
   ]
  },
  {
   "cell_type": "code",
   "execution_count": 10,
   "metadata": {},
   "outputs": [
    {
     "name": "stdout",
     "output_type": "stream",
     "text": [
      "[0, 1, 2, 3, 4, 5, 6, 7, 8, 9]\n",
      "[0, 1, 2, 3, 4, 100, 6, 7, 8, 9]\n",
      "Don't try buffer overflow attacks in Python!\n",
      "[0, 1, 2, 3, 4, 100, 6, 7, 8, 9]\n"
     ]
    }
   ],
   "source": [
    "def seq_update(seq, index, value):\n",
    "    try:\n",
    "        seq[index] = value\n",
    "    except (IndexError, KeyError):\n",
    "        print(\"Don't try buffer overflow attacks in Python!\")\n",
    "test1 = list(range(10))\n",
    "print(test1)\n",
    "seq_update(test1, 5, 100)\n",
    "print(test1)\n",
    "seq_update(test1, 100, 5)\n",
    "print(test1)\n",
    "test1 = list(range(10))"
   ]
  },
  {
   "cell_type": "markdown",
   "metadata": {},
   "source": [
    "#### C-1.24\n",
    "Write a short Python function that counts the number of vowels in a given\n",
    "character string."
   ]
  },
  {
   "cell_type": "code",
   "execution_count": 11,
   "metadata": {},
   "outputs": [
    {
     "name": "stdout",
     "output_type": "stream",
     "text": [
      "There are 2 vowels in 'Friend'\n"
     ]
    }
   ],
   "source": [
    "def count_vowels(in_str, vowels=['a', 'e', 'i', 'o', 'u', 'y']):\n",
    "    return sum([list(in_str.lower()).count(x) for x in vowels])\n",
    "print(\"There are {} vowels in '{}'\".format(count_vowels('Friend'), 'Friend'))"
   ]
  },
  {
   "cell_type": "markdown",
   "metadata": {},
   "source": [
    "#### C-1.25\n",
    "Write a short Python function that takes a strings, represent in a sentence, and returns a copy of the string with all punctuation removed. For example, if given the string \"Let's try, Mike.\", this function would return \"Lets try Mike\"."
   ]
  },
  {
   "cell_type": "code",
   "execution_count": 12,
   "metadata": {},
   "outputs": [
    {
     "name": "stdout",
     "output_type": "stream",
     "text": [
      "Lets try Mike\n"
     ]
    }
   ],
   "source": [
    "import re\n",
    "def remove_punctuation(in_str, punctuation=['.', ',', '?', '!', ':', ';', '\\'', '\\\"']):\n",
    "    pattern = re.compile(r'[{}]'.format(''.join(punctuation)))\n",
    "    return pattern.sub('', in_str)\n",
    "test_str = \"Let's try, Mike.\"\n",
    "print(remove_punctuation(test_str))"
   ]
  },
  {
   "cell_type": "markdown",
   "metadata": {},
   "source": [
    "#### C-1.26\n",
    "Write a short program that takes as input three integers, a, b, and c, from the console and determines if they can be used in a correct arithmetic formula (in the given order), like “a+b = c,” “a = b−c,” or “a∗b = c.”"
   ]
  },
  {
   "cell_type": "code",
   "execution_count": 20,
   "metadata": {},
   "outputs": [
    {
     "name": "stdout",
     "output_type": "stream",
     "text": [
      "(True, <built-in function add>, (1, 2), 3)\n",
      "(True, <built-in function mul>, (2, 4), 8)\n",
      "(True, <built-in function add>, (2, 1), 3)\n",
      "(True, <built-in function floordiv>, (6, 4), 1)\n",
      "(True, <built-in function mul>, (4, 3), 12)\n"
     ]
    }
   ],
   "source": [
    "from operator import add, mul, mod, floordiv, truediv\n",
    "def correct_arithmetic(a, b, c):\n",
    "    ops = [add, mul, truediv, floordiv, mod]\n",
    "    for op in ops:\n",
    "        if op(a, b) == c:\n",
    "            return True, op, (a, b), c\n",
    "        elif a == op(b, c):\n",
    "            return True, op, (b, c), a\n",
    "        else:\n",
    "            continue\n",
    "    return False, None, None, None\n",
    "print(correct_arithmetic(1, 2, 3)) # add\n",
    "print(correct_arithmetic(2, 4, 8)) # mul\n",
    "print(correct_arithmetic(3, 2, 1)) # mod\n",
    "print(correct_arithmetic(6, 4 ,1)) # floordiv\n",
    "print(correct_arithmetic(12, 4, 3)) # truediv"
   ]
  },
  {
   "cell_type": "markdown",
   "metadata": {},
   "source": [
    "#### C-1.27\n",
    "In Section 1.8, we provided three different implementations of a generator that computes factors of a given integer. The third of those implementations, from page 41, was the most efficient, but we noted that it did not yield the factors in increasing order. Modify the generator so that it reports factors in increasing order, while maintaining its general performance advantages."
   ]
  },
  {
   "cell_type": "code",
   "execution_count": 19,
   "metadata": {},
   "outputs": [
    {
     "name": "stdout",
     "output_type": "stream",
     "text": [
      "[1, 2, 4, 5, 10, 20, 25, 50, 100]\n"
     ]
    }
   ],
   "source": [
    "def factors_recursive(n, k=1): # A recursive solution for factor finding, this could probably be improved.\n",
    "    if k * k <= n:\n",
    "        if n % k == 0:\n",
    "            if k * k == n:\n",
    "                yield k\n",
    "            else:\n",
    "                yield k\n",
    "                yield from factors_recursive(n=n, k=k+1)\n",
    "                yield n // k\n",
    "        else:\n",
    "            yield from factors_recursive(n=n, k=k+1)\n",
    "print([k for k in factors_recursive(n=100)])"
   ]
  },
  {
   "cell_type": "markdown",
   "metadata": {},
   "source": [
    "#### C-1.28\n",
    "Give an implementation of a function named norm such that norm(v, p) returns the p-norm value of v and norm(v) returns the Euclidean norm of v. You may assume that v is a list of numbers."
   ]
  },
  {
   "cell_type": "code",
   "execution_count": 13,
   "metadata": {},
   "outputs": [
    {
     "name": "stdout",
     "output_type": "stream",
     "text": [
      "16.881943016134134\n",
      "16.881943016134134\n"
     ]
    }
   ],
   "source": [
    "from math import sqrt\n",
    "def custom_norm(v, p=None):\n",
    "    if p is None:\n",
    "        return sqrt(sum([x**2 for x in v]))\n",
    "    else:\n",
    "        return p(v)\n",
    "from numpy.linalg import norm\n",
    "print(custom_norm(test1))\n",
    "print(norm(test1))"
   ]
  }
 ],
 "metadata": {
  "kernelspec": {
   "display_name": "Python (dsa-study-group)",
   "language": "python",
   "name": "dsa-study-group"
  },
  "language_info": {
   "codemirror_mode": {
    "name": "ipython",
    "version": 3
   },
   "file_extension": ".py",
   "mimetype": "text/x-python",
   "name": "python",
   "nbconvert_exporter": "python",
   "pygments_lexer": "ipython3",
   "version": "3.7.1"
  }
 },
 "nbformat": 4,
 "nbformat_minor": 2
}
