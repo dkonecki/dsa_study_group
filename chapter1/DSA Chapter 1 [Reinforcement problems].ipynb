{
 "cells": [
  {
   "cell_type": "markdown",
   "metadata": {},
   "source": [
    "#### R-1.1\n",
    "Write a short Python function, is_multiple(n, m), that takes two integer values and returns True if n is a multiple of m, that is, n = mi for some integer i, and False otherwise."
   ]
  },
  {
   "cell_type": "code",
   "execution_count": 1,
   "metadata": {},
   "outputs": [
    {
     "name": "stdout",
     "output_type": "stream",
     "text": [
      "6 is a multiple of 3: True\n",
      "6 is not a multiple of 4: True\n"
     ]
    }
   ],
   "source": [
    "def is_multiple(n, m):\n",
    "    return (n % m) == 0\n",
    "# Simple test\n",
    "print('{} is a multiple of {}: {}'.format(6, 3, is_multiple(6, 3)))\n",
    "print('{} is not a multiple of {}: {}'.format(6, 4, not is_multiple(6, 4)))"
   ]
  },
  {
   "cell_type": "markdown",
   "metadata": {},
   "source": [
    "#### R-1.2\n",
    "Write a short Python function, is_even(k), that takes an integer value and returns True if k is even, and False otherwise. However, your function cannot use the multiplication, modulo, or division operators"
   ]
  },
  {
   "cell_type": "code",
   "execution_count": 2,
   "metadata": {},
   "outputs": [
    {
     "name": "stdout",
     "output_type": "stream",
     "text": [
      "112 is even True\n",
      "115 is not even True\n"
     ]
    }
   ],
   "source": [
    "def is_even(k):\n",
    "    while k > 0:\n",
    "        k -= 2\n",
    "    return True if k == 0 else False\n",
    "# Simple test\n",
    "print('{} is even {}'.format(112, is_even(112)))\n",
    "print('{} is not even {}'.format(115, not is_even(115)))"
   ]
  },
  {
   "cell_type": "markdown",
   "metadata": {},
   "source": [
    "#### R-1.3\n",
    "Write a short Python function, minmax(data), that takes a sequence of one or more numbers, and returns the smallest and largest numbers, in the form of a tuple of length two. Do not use the built-in functions min or max in implementing your solution."
   ]
  },
  {
   "cell_type": "code",
   "execution_count": 8,
   "metadata": {},
   "outputs": [
    {
     "name": "stdout",
     "output_type": "stream",
     "text": [
      "Min and max of 0, 1, 2, 3, 4, 5, 6, 7, 8, 9 are 0 and 9\n",
      "Min and max of 20, 18, 16, 14, 12, 10, 8, 6, 4, 2 are 2 and 20\n"
     ]
    }
   ],
   "source": [
    "def minmax(data):\n",
    "    min_data = max_data = data[0]\n",
    "    for point in data:\n",
    "        if point < min_data:\n",
    "            min_data = point\n",
    "        if point > max_data:\n",
    "            max_data = point\n",
    "    return min_data, max_data\n",
    "# Simple test\n",
    "test1 = range(10)\n",
    "min_1, max_1 = minmax(test1)\n",
    "print('Min and max of {} are {} and {}'.format(', '.join([str(x) for x in test1]), min_1, max_1))\n",
    "test2 = range(20, 0, -2)\n",
    "min_2, max_2 = minmax(test2)\n",
    "print('Min and max of {} are {} and {}'.format(', '.join([str(x) for x in test2]), min_2, max_2))"
   ]
  },
  {
   "cell_type": "markdown",
   "metadata": {},
   "source": [
    "#### R-1.4\n",
    "Write a short Python function that takes a positive integer n and returns the sum of the squares of all the positive integers smaller than n."
   ]
  },
  {
   "cell_type": "code",
   "execution_count": 11,
   "metadata": {},
   "outputs": [
    {
     "name": "stdout",
     "output_type": "stream",
     "text": [
      "The sum of squares less than 5 is 30:30\n",
      "The sum of squares less than 7 is 91:91\n"
     ]
    }
   ],
   "source": [
    "def pos_squares(n):\n",
    "    values = [x*x for x in range(1, int(n))]\n",
    "    return sum(values)\n",
    "# Simple test\n",
    "print('The sum of squares less than {} is {}:{}'.format(5, (16 + 9 + 4 + 1), pos_squares(5)))\n",
    "print('The sum of squares less than {} is {}:{}'.format(7, (36 + 25 + 16 + 9 + 4 + 1), pos_squares(7)))"
   ]
  },
  {
   "cell_type": "markdown",
   "metadata": {},
   "source": [
    "#### R-1.5\n",
    "Give a single command that computes the sum from Exercise R-1.4, relying on Python’s comprehension syntax and the built-in sum function."
   ]
  },
  {
   "cell_type": "code",
   "execution_count": 12,
   "metadata": {},
   "outputs": [
    {
     "name": "stdout",
     "output_type": "stream",
     "text": [
      "The sum of squares less than 5 is 30:30\n",
      "The sum of squares less than 7 is 91:91\n"
     ]
    }
   ],
   "source": [
    "def pos_squares_2(n):\n",
    "    return sum([x*x for x in range(1, int(n))])\n",
    "# Simple test\n",
    "print('The sum of squares less than {} is {}:{}'.format(5, (16 + 9 + 4 + 1), pos_squares(5)))\n",
    "print('The sum of squares less than {} is {}:{}'.format(7, (36 + 25 + 16 + 9 + 4 + 1), pos_squares(7)))"
   ]
  },
  {
   "cell_type": "markdown",
   "metadata": {},
   "source": [
    "#### R-1.6\n",
    "Write a short Python function that takes a positive integer n and returns the sum of the squares of all the odd positive integers smaller than n."
   ]
  },
  {
   "cell_type": "code",
   "execution_count": 13,
   "metadata": {},
   "outputs": [
    {
     "name": "stdout",
     "output_type": "stream",
     "text": [
      "The sum of squares less than 5 is 10:10\n",
      "The sum of squares less than 7 is 35:35\n"
     ]
    }
   ],
   "source": [
    "def pos_odd_squares(n):\n",
    "    return sum([x*x for x in range(1, int(n)) if (x % 2 - 1) == 0])\n",
    "# Simple test\n",
    "print('The sum of squares less than {} is {}:{}'.format(5, (9 + 1), pos_odd_squares(5)))\n",
    "print('The sum of squares less than {} is {}:{}'.format(7, (25 + 9 + 1), pos_odd_squares(7)))"
   ]
  },
  {
   "cell_type": "markdown",
   "metadata": {},
   "source": [
    "#### R-1.7\n",
    "Give a single command that computes the sum from Exercise R-1.6, relying on Python’s comprehension syntax and the built-in sum function."
   ]
  },
  {
   "cell_type": "code",
   "execution_count": null,
   "metadata": {},
   "outputs": [],
   "source": [
    "# My solution to R-1.6 already meets these requirements."
   ]
  },
  {
   "cell_type": "markdown",
   "metadata": {},
   "source": [
    "#### R-1.8\n",
    "Python allows negative integers to be used as indices into a sequence, such as a string. If string s has length n, and expression s[k] is used for index −n ≤ k < 0, what is the equivalent index j ≥ 0 such that s[j] references the same element?"
   ]
  },
  {
   "cell_type": "code",
   "execution_count": 15,
   "metadata": {},
   "outputs": [
    {
     "name": "stdout",
     "output_type": "stream",
     "text": [
      "-1 references 9 as 9 references 9\n",
      "-4 references 8 as 6 references 8\n"
     ]
    }
   ],
   "source": [
    "def convert_neg_to_pos_indexing(neg_index, data):\n",
    "    n = len(data)\n",
    "    return (neg_index + n) % n\n",
    "neg_index = -1\n",
    "pos_index = convert_neg_to_pos_indexing(neg_index, test1)\n",
    "print('{} references {} as {} references {}'.format(neg_index, test1[neg_index], pos_index, test1[pos_index]))\n",
    "neg_index2 = -4\n",
    "pos_index2 = convert_neg_to_pos_indexing(neg_index2, test2)\n",
    "print('{} references {} as {} references {}'.format(neg_index2, test2[neg_index2], pos_index2, test2[pos_index2]))"
   ]
  },
  {
   "cell_type": "markdown",
   "metadata": {},
   "source": [
    "#### R-1.9\n",
    "What parameters should be sent to the range constructor, to produce a range with values 50, 60, 70, 80?"
   ]
  },
  {
   "cell_type": "code",
   "execution_count": 18,
   "metadata": {},
   "outputs": [
    {
     "data": {
      "text/plain": [
       "[50, 60, 70, 80]"
      ]
     },
     "execution_count": 18,
     "metadata": {},
     "output_type": "execute_result"
    }
   ],
   "source": [
    "list(range(50, 90, 10))"
   ]
  },
  {
   "cell_type": "markdown",
   "metadata": {},
   "source": [
    "#### R-1.10\n",
    "What parameters should be sent to the range constructor, to produce a range with values 8, 6, 4, 2, 0, −2, −4, −6, −8?"
   ]
  },
  {
   "cell_type": "code",
   "execution_count": 19,
   "metadata": {},
   "outputs": [
    {
     "data": {
      "text/plain": [
       "[8, 6, 4, 2, 0, -2, -4, -6, -8]"
      ]
     },
     "execution_count": 19,
     "metadata": {},
     "output_type": "execute_result"
    }
   ],
   "source": [
    "list(range(8, -10, -2))"
   ]
  },
  {
   "cell_type": "markdown",
   "metadata": {},
   "source": [
    "#### R-1.11\n",
    "Demonstrate how to use Python’s list comprehension syntax to produce the list [1, 2, 4, 8, 16, 32, 64, 128, 256]."
   ]
  },
  {
   "cell_type": "code",
   "execution_count": 20,
   "metadata": {},
   "outputs": [
    {
     "data": {
      "text/plain": [
       "[1, 2, 4, 8, 16, 32, 64, 128, 256]"
      ]
     },
     "execution_count": 20,
     "metadata": {},
     "output_type": "execute_result"
    }
   ],
   "source": [
    "[2**x for x in range(9)]"
   ]
  },
  {
   "cell_type": "markdown",
   "metadata": {},
   "source": [
    "#### R-1.12\n",
    "Python’s random module includes a function choice(data) that returns a random element from a non-empty sequence. The random module includes a more basic function randrange, with parameterization similar to the built-in range function, that return a random choice from the given range. Using only the randrange function, implement your own version of the choice function."
   ]
  },
  {
   "cell_type": "code",
   "execution_count": 23,
   "metadata": {},
   "outputs": [
    {
     "name": "stdout",
     "output_type": "stream",
     "text": [
      "Choice 1: 1\n",
      "Choice 2: 9\n",
      "Choice 3: 6\n",
      "Choice 4: 14\n",
      "Choice 5: 4\n",
      "Choice 6: 10\n"
     ]
    }
   ],
   "source": [
    "from random import randrange\n",
    "def custom_choice(seq):\n",
    "    return seq[randrange(len(seq))]\n",
    "# Simple test\n",
    "print('Choice 1: {}'.format(custom_choice(test1)))\n",
    "print('Choice 2: {}'.format(custom_choice(test1)))\n",
    "print('Choice 3: {}'.format(custom_choice(test1)))\n",
    "print('Choice 4: {}'.format(custom_choice(test2)))\n",
    "print('Choice 5: {}'.format(custom_choice(test2)))\n",
    "print('Choice 6: {}'.format(custom_choice(test2)))"
   ]
  }
 ],
 "metadata": {
  "kernelspec": {
   "display_name": "Python 3",
   "language": "python",
   "name": "python3"
  },
  "language_info": {
   "codemirror_mode": {
    "name": "ipython",
    "version": 3
   },
   "file_extension": ".py",
   "mimetype": "text/x-python",
   "name": "python",
   "nbconvert_exporter": "python",
   "pygments_lexer": "ipython3",
   "version": "3.7.1"
  }
 },
 "nbformat": 4,
 "nbformat_minor": 2
}
